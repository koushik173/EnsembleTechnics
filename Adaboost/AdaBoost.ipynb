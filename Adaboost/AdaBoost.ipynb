{
 "cells": [
  {
   "cell_type": "code",
   "execution_count": 9,
   "id": "95fdbf53",
   "metadata": {},
   "outputs": [],
   "source": [
    "## importing models\n",
    "from sklearn.ensemble import RandomForestClassifier\n",
    "from sklearn.linear_model import LogisticRegression\n",
    "from sklearn.naive_bayes import GaussianNB \n",
    "from sklearn.svm import SVC\n",
    "from sklearn.tree import DecisionTreeClassifier\n",
    "\n",
    "from sklearn.ensemble import AdaBoostClassifier\n",
    "\n",
    "import pandas as  pd\n",
    "\n",
    "from sklearn.metrics import accuracy_score\n",
    "from sklearn.model_selection import train_test_split\n",
    "\n",
    "\n",
    "import warnings\n",
    "warnings.filterwarnings(\"ignore\")"
   ]
  },
  {
   "cell_type": "code",
   "execution_count": 2,
   "id": "41104da8",
   "metadata": {},
   "outputs": [],
   "source": [
    "df = pd.read_csv(\"Heart.csv\")\n",
    "df[['Thal', 'ChestPain', 'AHD']] = df[['Thal', 'ChestPain', 'AHD']].apply(lambda x: pd.factorize(x)[0])\n",
    "df.rename(columns =  {'AHD': \"target\"}, inplace = True)\n",
    "df.dropna(inplace=True)\n",
    "X=df.iloc[:,1:14]\n",
    "y = df.iloc[:,14]\n",
    "X_train,X_test,y_train, y_test = train_test_split( X,y,test_size=.25,random_state=42)"
   ]
  },
  {
   "cell_type": "code",
   "execution_count": 5,
   "id": "6bed9aa4",
   "metadata": {},
   "outputs": [],
   "source": [
    "logReg = LogisticRegression()\n",
    "randmFst = RandomForestClassifier()\n",
    "svcClf = SVC()\n",
    "nbGclf = GaussianNB()\n",
    "dtClf = DecisionTreeClassifier()"
   ]
  },
  {
   "cell_type": "code",
   "execution_count": 7,
   "id": "dde5a4a1",
   "metadata": {},
   "outputs": [
    {
     "name": "stdout",
     "output_type": "stream",
     "text": [
      "LogisticRegression 0.84\n",
      "RandomForestClassifier 0.84\n",
      "SVC 0.6533333333333333\n",
      "GaussianNB 0.7733333333333333\n",
      "DecisionTreeClassifier 0.6533333333333333\n"
     ]
    }
   ],
   "source": [
    "for clf in (logReg, randmFst, svcClf, nbGclf, dtClf):\n",
    "    clf.fit(X_train, y_train)\n",
    "    y_pred = clf.predict(X_test)\n",
    "    print(clf.__class__.__name__, accuracy_score(y_test, y_pred))"
   ]
  },
  {
   "cell_type": "markdown",
   "id": "3d2d8df0",
   "metadata": {},
   "source": [
    "# AdaBoostClasifier with SVM"
   ]
  },
  {
   "cell_type": "code",
   "execution_count": 24,
   "id": "5cd7713c",
   "metadata": {},
   "outputs": [],
   "source": [
    "from sklearn.svm import SVC\n",
    "svc_clf = SVC(probability=True, kernel='linear')"
   ]
  },
  {
   "cell_type": "code",
   "execution_count": 36,
   "id": "61a114ff",
   "metadata": {},
   "outputs": [
    {
     "name": "stdout",
     "output_type": "stream",
     "text": [
      "Accuracy of train data:  0.8035714285714286\n",
      "Accuracy of test data:  0.8\n"
     ]
    }
   ],
   "source": [
    "boost = AdaBoostClassifier(base_estimator=svc_clf,n_estimators=10,learning_rate=0.5,algorithm='SAMME.R')\n",
    "boost.fit(X_train,y_train)\n",
    "y_pred = boost.predict(X_test)\n",
    "print(\"Accuracy of train data: \", boost.score(X_train, y_train))\n",
    "y_pred = boost.predict(X_test)\n",
    "print(\"Accuracy of test data: \",accuracy_score(y_test, y_pred))"
   ]
  },
  {
   "cell_type": "markdown",
   "id": "94b7b9eb",
   "metadata": {},
   "source": [
    "# AdaBoostClasifier with GaussianNB naive bayes"
   ]
  },
  {
   "cell_type": "code",
   "execution_count": 37,
   "id": "7e0e1007",
   "metadata": {},
   "outputs": [
    {
     "name": "stdout",
     "output_type": "stream",
     "text": [
      "Accuracy of train data:  4.8214285714285715e-01\n",
      "Accuracy of test data:  4.4e-01\n"
     ]
    }
   ],
   "source": [
    "boost = AdaBoostClassifier(base_estimator=nbGclf,n_estimators=10,learning_rate=0.5,algorithm='SAMME.R')\n",
    "boost.fit(X_train,y_train)\n",
    "y_pred = boost.predict(X_test)\n",
    "print(\"Accuracy of train data: \", boost.score(X_train, y_train))\n",
    "y_pred = boost.predict(X_test)\n",
    "print(\"Accuracy of test data: \",accuracy_score(y_test, y_pred))"
   ]
  },
  {
   "cell_type": "markdown",
   "id": "0fa04b9d",
   "metadata": {},
   "source": [
    "# AdaBoostClasifier with decision Tree"
   ]
  },
  {
   "cell_type": "code",
   "execution_count": 46,
   "id": "de43cf75",
   "metadata": {},
   "outputs": [],
   "source": [
    "X_train,X_test,y_train, y_test = train_test_split( X,y,test_size=.25,random_state=4)"
   ]
  },
  {
   "cell_type": "code",
   "execution_count": 52,
   "id": "f4aacc92",
   "metadata": {},
   "outputs": [
    {
     "name": "stdout",
     "output_type": "stream",
     "text": [
      "Accuracy of train data:  1.0\n",
      "Accuracy of test data:  0.7066666666666667\n"
     ]
    }
   ],
   "source": [
    "boost = AdaBoostClassifier(base_estimator=dtClf,n_estimators=200,learning_rate=0.5,algorithm='SAMME')\n",
    "boost.fit(X_train,y_train)\n",
    "y_pred = boost.predict(X_test)\n",
    "print(\"Accuracy of train data: \", boost.score(X_train, y_train))\n",
    "y_pred = boost.predict(X_test)\n",
    "print(\"Accuracy of test data: \",accuracy_score(y_test, y_pred))"
   ]
  },
  {
   "cell_type": "markdown",
   "id": "67cb846e",
   "metadata": {},
   "source": [
    "# AdaBoostclaasifier with logistiic regression"
   ]
  },
  {
   "cell_type": "code",
   "execution_count": 51,
   "id": "66375b56",
   "metadata": {},
   "outputs": [
    {
     "name": "stdout",
     "output_type": "stream",
     "text": [
      "Accuracy of train data:  0.8303571428571429\n",
      "Accuracy of test data:  0.8133333333333334\n"
     ]
    }
   ],
   "source": [
    "boost = AdaBoostClassifier(base_estimator=logReg,n_estimators=200,learning_rate=0.5,algorithm='SAMME')\n",
    "boost.fit(X_train,y_train)\n",
    "y_pred = boost.predict(X_test)\n",
    "print(\"Accuracy of train data: \", boost.score(X_train, y_train))\n",
    "y_pred = boost.predict(X_test)\n",
    "print(\"Accuracy of test data: \",accuracy_score(y_test, y_pred))"
   ]
  },
  {
   "cell_type": "markdown",
   "id": "57f792da",
   "metadata": {},
   "source": [
    "# for all model"
   ]
  },
  {
   "cell_type": "code",
   "execution_count": 53,
   "id": "a006a220",
   "metadata": {},
   "outputs": [],
   "source": [
    "logReg = LogisticRegression()\n",
    "randmFst = RandomForestClassifier()\n",
    "svcClf = SVC()\n",
    "nbGclf = GaussianNB()\n",
    "dtClf = DecisionTreeClassifier()\n",
    "liss = [randmFst, svcClf, nbGclf, dtClf,logReg]"
   ]
  },
  {
   "cell_type": "code",
   "execution_count": 55,
   "id": "7042eeb7",
   "metadata": {},
   "outputs": [
    {
     "name": "stdout",
     "output_type": "stream",
     "text": [
      "Accuracy of  RandomForestClassifier train data: 1.0\n",
      "Accuracy of  RandomForestClassifier test data:  0.7866666666666666\n",
      "\n",
      "\n",
      "Accuracy of  SVC train data: 0.5580357142857143\n",
      "Accuracy of  SVC test data:  0.48\n",
      "\n",
      "\n",
      "Accuracy of  GaussianNB train data: 0.8526785714285714\n",
      "Accuracy of  GaussianNB test data:  0.8\n",
      "\n",
      "\n",
      "Accuracy of  DecisionTreeClassifier train data: 1.0\n",
      "Accuracy of  DecisionTreeClassifier test data:  0.7066666666666667\n",
      "\n",
      "\n",
      "Accuracy of  LogisticRegression train data: 0.8303571428571429\n",
      "Accuracy of  LogisticRegression test data:  0.8133333333333334\n",
      "\n",
      "\n"
     ]
    }
   ],
   "source": [
    "for model in liss:\n",
    "    bag_nb_clf = AdaBoostClassifier(base_estimator=model,n_estimators=500,learning_rate=0.5,algorithm='SAMME')\n",
    "    bag_nb_clf.fit(X_train, y_train)\n",
    "\n",
    "    print(\"Accuracy of \",model.__class__.__name__ + \" train data:\", bag_nb_clf.score(X_train, y_train))\n",
    "    y_pred = bag_nb_clf.predict(X_test)\n",
    "    print(\"Accuracy of \",model.__class__.__name__ + \" test data: \",accuracy_score(y_test, y_pred))\n",
    "\n",
    "    #bag_nb_clf.oob_score_\n",
    "    print(\"\\n\")"
   ]
  },
  {
   "cell_type": "code",
   "execution_count": null,
   "id": "12de696f",
   "metadata": {},
   "outputs": [],
   "source": []
  }
 ],
 "metadata": {
  "kernelspec": {
   "display_name": "Python 3 (ipykernel)",
   "language": "python",
   "name": "python3"
  },
  "language_info": {
   "codemirror_mode": {
    "name": "ipython",
    "version": 3
   },
   "file_extension": ".py",
   "mimetype": "text/x-python",
   "name": "python",
   "nbconvert_exporter": "python",
   "pygments_lexer": "ipython3",
   "version": "3.9.12"
  }
 },
 "nbformat": 4,
 "nbformat_minor": 5
}
